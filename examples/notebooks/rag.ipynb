{
 "cells": [
  {
   "metadata": {
    "ExecuteTime": {
     "end_time": "2025-05-18T18:02:52.655528Z",
     "start_time": "2025-05-18T18:02:40.480762Z"
    }
   },
   "cell_type": "code",
   "source": [
    "from dotenv import load_dotenv\n",
    "\n",
    "from vfn_rag.retrieval.storage import Storage\n",
    "from vfn_rag.indexing.index_manager import IndexManager\n",
    "from vfn_rag.utils.config_loader import ConfigLoader\n",
    "from vfn_rag.utils.models import azure_open_ai, get_azure_open_ai_embedding"
   ],
   "id": "ddf7df3fe83773bb",
   "outputs": [],
   "execution_count": 1
  },
  {
   "metadata": {
    "ExecuteTime": {
     "end_time": "2025-05-18T18:03:20.254458Z",
     "start_time": "2025-05-18T18:03:20.238780Z"
    }
   },
   "cell_type": "code",
   "source": [
    "import os\n",
    "os.getcwd()\n",
    "r_dir = \"../../\"\n",
    "os.chdir(r_dir)\n",
    "os.getcwd()"
   ],
   "id": "72a1baff2d1fa151",
   "outputs": [
    {
     "data": {
      "text/plain": [
       "'C:\\\\gdrive\\\\algorithms\\\\AI\\\\llms\\\\vfn-rag'"
      ]
     },
     "execution_count": 2,
     "metadata": {},
     "output_type": "execute_result"
    }
   ],
   "execution_count": 2
  },
  {
   "metadata": {
    "ExecuteTime": {
     "end_time": "2025-05-18T18:03:22.905968Z",
     "start_time": "2025-05-18T18:03:22.895608Z"
    }
   },
   "cell_type": "code",
   "source": "load_dotenv()",
   "id": "c3f5e513d2016580",
   "outputs": [
    {
     "data": {
      "text/plain": [
       "True"
      ]
     },
     "execution_count": 3,
     "metadata": {},
     "output_type": "execute_result"
    }
   ],
   "execution_count": 3
  },
  {
   "metadata": {
    "ExecuteTime": {
     "end_time": "2025-05-18T18:03:39.023781Z",
     "start_time": "2025-05-18T18:03:34.903797Z"
    }
   },
   "cell_type": "code",
   "source": [
    "llm = azure_open_ai()\n",
    "embedding = get_azure_open_ai_embedding()\n",
    "config_loader = ConfigLoader(llm=llm, embedding=embedding)\n",
    "storage_path = r\"examples/data/storage\"\n",
    "storage = Storage.load(storage_path)\n",
    "index_manager = IndexManager.load_from_storage(storage)"
   ],
   "id": "f24b006b2ae55a04",
   "outputs": [],
   "execution_count": 4
  },
  {
   "metadata": {
    "ExecuteTime": {
     "end_time": "2025-05-18T18:03:50.734403Z",
     "start_time": "2025-05-18T18:03:50.726471Z"
    }
   },
   "cell_type": "code",
   "source": [
    "index = index_manager.indexes[-1]\n",
    "query_engine = index.as_query_engine()"
   ],
   "id": "ac98664c5c1eb025",
   "outputs": [],
   "execution_count": 5
  },
  {
   "metadata": {
    "ExecuteTime": {
     "end_time": "2025-05-18T18:04:04.791049Z",
     "start_time": "2025-05-18T18:04:01.682415Z"
    }
   },
   "cell_type": "code",
   "source": [
    "user_prompt = \"how is the deltares pond connected to the surrounding area?\"\n",
    "answer = query_engine.query(user_prompt)\n",
    "print(answer.response)"
   ],
   "id": "9db66f5934658b8c",
   "outputs": [
    {
     "name": "stdout",
     "output_type": "stream",
     "text": [
      "The Deltares pond is connected to the surrounding area through a controlled inlet and outlet system that links it to the nearby canals. This system allows water to flow in and out of the pond, bringing in fresh nutrients and microorganisms while maintaining a steady water level and preventing flooding. The connection enhances biodiversity and allows for natural filtration processes, while also providing a new habitat corridor for wildlife.\n"
     ]
    }
   ],
   "execution_count": 6
  },
  {
   "metadata": {
    "ExecuteTime": {
     "end_time": "2025-05-18T18:06:41.220975Z",
     "start_time": "2025-05-18T18:06:41.213677Z"
    }
   },
   "cell_type": "code",
   "source": [
    "reference_id = [\n",
    "    answer.metadata[key][\"file_name\"] for key in answer.metadata.keys()\n",
    "]\n",
    "print(reference_id)\n"
   ],
   "id": "20de1b3003054f46",
   "outputs": [
    {
     "name": "stdout",
     "output_type": "stream",
     "text": [
      "['connections.txt', 'deltares-pond-history.txt']\n"
     ]
    }
   ],
   "execution_count": 12
  },
  {
   "metadata": {
    "ExecuteTime": {
     "end_time": "2025-05-18T18:08:38.004868Z",
     "start_time": "2025-05-18T18:08:37.996647Z"
    }
   },
   "cell_type": "code",
   "source": [
    "reference_text = [\n",
    "    answer.source_nodes[i].node.text for i in range(len(answer.source_nodes))\n",
    "]\n",
    "print(reference_text)"
   ],
   "id": "c30bf0d189b95433",
   "outputs": [
    {
     "name": "stdout",
     "output_type": "stream",
     "text": [
      "['As the Deltares pond matured into a stable, self-sustaining ecosystem, the team saw an exciting opportunity: to connect it to the surrounding canals. This connection would be both symbolic and functional, linking the pond to a broader network of water bodies that crisscross the landscape around Deltares. Beyond adding ecological value, this integration offered a chance to observe and study water movement, nutrient exchange, and biodiversity in a real-world setting—turning the pond into a microcosm of the larger hydrological systems Deltares studies.\\r\\n\\r\\nPlanning the Connection: Expanding the Ecosystem\\r\\nConnecting the pond to the canals required careful planning to preserve its stability while ensuring a safe exchange of water and organisms. The main purpose of this integration was to create a more dynamic environment where water could flow in and out, enhancing biodiversity and allowing natural filtration processes to occur at a larger scale. However, it was essential to prevent nutrient overloads and minimize the risk of invasive species entering the pond.\\r\\n\\r\\nTo manage this, Deltares engineers designed a controlled inlet and outlet system, complete with screens and filters to regulate the flow and monitor the water quality. The inlet system allowed canal water to trickle slowly into the pond, bringing in fresh nutrients and microorganisms while avoiding sudden influxes that could destabilize the ecosystem. The outlet, situated on the opposite side, enabled excess water to exit, maintaining a steady water level and preventing flooding after heavy rain.\\r\\n\\r\\nChallenges and Insights: Balancing Water Quality\\r\\nOnce the pond was connected to the canals, Deltares researchers encountered new challenges that came with this dynamic system. Initially, nutrient levels fluctuated more than expected, leading to temporary spikes in algae. With canal water bringing in additional nutrients and organic matter, the pond ecosystem had to adapt to a new balance.\\r\\n\\r\\nThe team responded by fine-tuning the inflow rate and enhancing the floating wetland islands they had previously introduced. These wetlands acted as natural filters, absorbing excess nutrients from the canal water before they could contribute to algae blooms. Over time, the pond’s ecosystem adapted, with plants and microorganisms gradually establishing a new balance that could handle the nutrient inflow from the canals.\\r\\n\\r\\nThese adjustments offered the Deltares team valuable insights into nutrient cycling and aquatic health in semi-enclosed water bodies. They observed how the pond’s new inflows affected everything from oxygen levels to the distribution of fish and plant species, creating a richer dataset that fed into larger projects on water quality and ecosystem restoration.\\r\\n\\r\\nEnhancing Biodiversity: A New Habitat Corridor\\r\\nConnecting the pond to the canals also opened new pathways for wildlife. The canal network already supports a variety of fish, birds, and amphibians, and the newly connected pond provided an additional habitat within this corridor. Aquatic plants seeded from the canal began to flourish in the pond, complementing existing species and offering food and shelter for fish and insects.\\r\\n\\r\\nBirds and other wildlife soon took advantage of this expanded habitat. Ducks from the surrounding areas started visiting, increasing genetic diversity among the pond’s resident ducks. Herons and kingfishers began making regular appearances, drawn by the new influx of fish from the canal. Even smaller creatures like frogs, dragonflies, and freshwater shrimp made their way into the pond, enriching its biodiversity and adding layers to the food web.\\r\\n\\r\\nThis connection didn’t just benefit the pond; it enhanced the entire local ecosystem. By linking the pond to the canals, Deltares had essentially created a “stepping stone” habitat, providing a safe stopover for migratory birds and an extended range for aquatic species. This small addition to the landscape contributed to regional biodiversity, supporting Deltares’ mission of fostering sustainable ecosystems through practical, science-based interventions.\\r\\n\\r\\nHydrological Observations: Real-Time Data on Water Flow and Quality\\r\\nFor Deltares researchers, this integration also offered a unique opportunity to study hydrological processes in real-time. By monitoring the movement of water between the pond and the canals, they could observe how changes in one body of water affected the other. Factors like rainfall, evaporation, and nutrient loads from the canal all influenced the pond’s conditions, giving scientists insight into the effects of external forces on closed ecosystems.\\r\\n\\r\\nSensors installed in the pond and canal provided real-time data on water levels, temperature, pH, and dissolved oxygen. By analyzing these metrics, Deltares could test models that predict how urban ponds interact with surrounding waterways, information that could be applied to urban planning, flood management, and climate adaptation projects.\\r\\n\\r\\nSwimming Revisited: The Impact of Canal Connection\\r\\nInterestingly, connecting the pond to the canal also raised new questions about recreational use, including whether the water quality would meet standards for swimming. With the canal connection came an increased risk of pollutants from upstream sources, meaning that monitoring became even more essential. The pond’s nutrient and bacterial levels fluctuated slightly more, making swimming a less viable option. Instead, Deltares used this challenge to refine its water management practices, developing protocols for urban ponds and small lakes with similar connections to larger water systems.\\r\\n\\r\\nIn this sense, the pond-canal connection illustrated a broader reality of water management: balancing ecological health with human activity is complex and requires constant adjustment. It reinforced the understanding that while natural water bodies can support rich biodiversity and ecosystem services, they may not always meet human standards for recreational use, especially when part of a larger network.\\r\\n\\r\\nA Living Lab for Water Systems: Connecting Science, Nature, and People\\r\\nToday, Deltares’ pond stands as a unique bridge between the natural world and human ingenuity. The connection to the canals has enriched its ecosystem and expanded its role as a “living lab” where researchers can study ecological processes that apply to broader water systems. The pond’s story has transformed from a simple on-campus project into a case study in real-world water management, offering insights on topics ranging from biodiversity corridors to water quality control.\\r\\n\\r\\nFor Deltares, this integration with the canals symbolizes the company’s mission of connecting science with nature and people. The pond is not just a body of water; it’s a testament to the value of holistic thinking in environmental science—an interconnected space where ecological health, urban planning, and recreational potential come together. By embracing the challenges and opportunities of this connection, Deltares has created a vibrant ecosystem that is as much a source of knowledge as it is a natural sanctuary.\\r\\n\\r\\nAnd though it may never become a swimming hole, its true legacy lies in the lessons it imparts: that through careful stewardship and a willingness to adapt, even a small pond can be a profound force for understanding and protecting the world’s water systems.\\r\\n', 'Deltares Pond: A Brief History\\r\\n\\r\\nThe dialogue with nature can take many forms, each offering a unique way to engage with the natural world.\\r\\n\\r\\nUnderstanding the pond as a natural system\\r\\n\\r\\nThe Deltares pond, much like any natural system, is inherently interconnected with its surrounding environment.\\r\\nSmall ponds, like other water bodies, do not function in isolation as other water bodies. It is part of larger\\r\\nhydrological networks influenced by neighbouring water systems, such as groundwater, streams, and distant rivers.\\r\\n\\r\\nThe Birth of the Deltares Pond\\r\\nIn a practical context, such as Deltares’ research, understanding these connections is critical for managing water\\r\\nquality, predicting the effects of changes (e.g., climate change, land use), and ensuring the health of aquatic systems.\\r\\nThe pond can serve as a microcosm for studying broader watershed dynamics, such as how pollutants move through\\r\\nconnected systems or how changes in one area can impact the entire hydrological network.\\r\\n\\r\\nThis web of connections highlights the importance of integrated water resource management (IWRM), ensuring that\\r\\ninterventions consider the entire system, not just individual elements\\r\\n']\n"
     ]
    }
   ],
   "execution_count": 14
  },
  {
   "metadata": {
    "ExecuteTime": {
     "end_time": "2025-05-18T18:09:41.210079Z",
     "start_time": "2025-05-18T18:09:41.201156Z"
    }
   },
   "cell_type": "code",
   "source": [
    "score = [\n",
    "    answer.source_nodes[i].score for i in range(len(answer.source_nodes))]\n",
    "print(score)"
   ],
   "id": "ac6848a5d99c5dd2",
   "outputs": [
    {
     "name": "stdout",
     "output_type": "stream",
     "text": [
      "[0.6163693850605045, 0.5818655249668642]\n"
     ]
    }
   ],
   "execution_count": 15
  },
  {
   "metadata": {
    "ExecuteTime": {
     "end_time": "2025-05-18T18:10:08.990975Z",
     "start_time": "2025-05-18T18:10:08.982536Z"
    }
   },
   "cell_type": "code",
   "source": [
    "references = {\n",
    "    f\"{key}({round(score_i, 2)})\": value\n",
    "    for key, score_i, value in zip(reference_id, score, reference_text)\n",
    "}\n",
    "for key, value in references.items():\n",
    "    print(f\"{key}: {value}\")"
   ],
   "id": "b308f5f9819b12e",
   "outputs": [
    {
     "name": "stdout",
     "output_type": "stream",
     "text": [
      "connections.txt(0.62): As the Deltares pond matured into a stable, self-sustaining ecosystem, the team saw an exciting opportunity: to connect it to the surrounding canals. This connection would be both symbolic and functional, linking the pond to a broader network of water bodies that crisscross the landscape around Deltares. Beyond adding ecological value, this integration offered a chance to observe and study water movement, nutrient exchange, and biodiversity in a real-world setting—turning the pond into a microcosm of the larger hydrological systems Deltares studies.\r\n",
      "\r\n",
      "Planning the Connection: Expanding the Ecosystem\r\n",
      "Connecting the pond to the canals required careful planning to preserve its stability while ensuring a safe exchange of water and organisms. The main purpose of this integration was to create a more dynamic environment where water could flow in and out, enhancing biodiversity and allowing natural filtration processes to occur at a larger scale. However, it was essential to prevent nutrient overloads and minimize the risk of invasive species entering the pond.\r\n",
      "\r\n",
      "To manage this, Deltares engineers designed a controlled inlet and outlet system, complete with screens and filters to regulate the flow and monitor the water quality. The inlet system allowed canal water to trickle slowly into the pond, bringing in fresh nutrients and microorganisms while avoiding sudden influxes that could destabilize the ecosystem. The outlet, situated on the opposite side, enabled excess water to exit, maintaining a steady water level and preventing flooding after heavy rain.\r\n",
      "\r\n",
      "Challenges and Insights: Balancing Water Quality\r\n",
      "Once the pond was connected to the canals, Deltares researchers encountered new challenges that came with this dynamic system. Initially, nutrient levels fluctuated more than expected, leading to temporary spikes in algae. With canal water bringing in additional nutrients and organic matter, the pond ecosystem had to adapt to a new balance.\r\n",
      "\r\n",
      "The team responded by fine-tuning the inflow rate and enhancing the floating wetland islands they had previously introduced. These wetlands acted as natural filters, absorbing excess nutrients from the canal water before they could contribute to algae blooms. Over time, the pond’s ecosystem adapted, with plants and microorganisms gradually establishing a new balance that could handle the nutrient inflow from the canals.\r\n",
      "\r\n",
      "These adjustments offered the Deltares team valuable insights into nutrient cycling and aquatic health in semi-enclosed water bodies. They observed how the pond’s new inflows affected everything from oxygen levels to the distribution of fish and plant species, creating a richer dataset that fed into larger projects on water quality and ecosystem restoration.\r\n",
      "\r\n",
      "Enhancing Biodiversity: A New Habitat Corridor\r\n",
      "Connecting the pond to the canals also opened new pathways for wildlife. The canal network already supports a variety of fish, birds, and amphibians, and the newly connected pond provided an additional habitat within this corridor. Aquatic plants seeded from the canal began to flourish in the pond, complementing existing species and offering food and shelter for fish and insects.\r\n",
      "\r\n",
      "Birds and other wildlife soon took advantage of this expanded habitat. Ducks from the surrounding areas started visiting, increasing genetic diversity among the pond’s resident ducks. Herons and kingfishers began making regular appearances, drawn by the new influx of fish from the canal. Even smaller creatures like frogs, dragonflies, and freshwater shrimp made their way into the pond, enriching its biodiversity and adding layers to the food web.\r\n",
      "\r\n",
      "This connection didn’t just benefit the pond; it enhanced the entire local ecosystem. By linking the pond to the canals, Deltares had essentially created a “stepping stone” habitat, providing a safe stopover for migratory birds and an extended range for aquatic species. This small addition to the landscape contributed to regional biodiversity, supporting Deltares’ mission of fostering sustainable ecosystems through practical, science-based interventions.\r\n",
      "\r\n",
      "Hydrological Observations: Real-Time Data on Water Flow and Quality\r\n",
      "For Deltares researchers, this integration also offered a unique opportunity to study hydrological processes in real-time. By monitoring the movement of water between the pond and the canals, they could observe how changes in one body of water affected the other. Factors like rainfall, evaporation, and nutrient loads from the canal all influenced the pond’s conditions, giving scientists insight into the effects of external forces on closed ecosystems.\r\n",
      "\r\n",
      "Sensors installed in the pond and canal provided real-time data on water levels, temperature, pH, and dissolved oxygen. By analyzing these metrics, Deltares could test models that predict how urban ponds interact with surrounding waterways, information that could be applied to urban planning, flood management, and climate adaptation projects.\r\n",
      "\r\n",
      "Swimming Revisited: The Impact of Canal Connection\r\n",
      "Interestingly, connecting the pond to the canal also raised new questions about recreational use, including whether the water quality would meet standards for swimming. With the canal connection came an increased risk of pollutants from upstream sources, meaning that monitoring became even more essential. The pond’s nutrient and bacterial levels fluctuated slightly more, making swimming a less viable option. Instead, Deltares used this challenge to refine its water management practices, developing protocols for urban ponds and small lakes with similar connections to larger water systems.\r\n",
      "\r\n",
      "In this sense, the pond-canal connection illustrated a broader reality of water management: balancing ecological health with human activity is complex and requires constant adjustment. It reinforced the understanding that while natural water bodies can support rich biodiversity and ecosystem services, they may not always meet human standards for recreational use, especially when part of a larger network.\r\n",
      "\r\n",
      "A Living Lab for Water Systems: Connecting Science, Nature, and People\r\n",
      "Today, Deltares’ pond stands as a unique bridge between the natural world and human ingenuity. The connection to the canals has enriched its ecosystem and expanded its role as a “living lab” where researchers can study ecological processes that apply to broader water systems. The pond’s story has transformed from a simple on-campus project into a case study in real-world water management, offering insights on topics ranging from biodiversity corridors to water quality control.\r\n",
      "\r\n",
      "For Deltares, this integration with the canals symbolizes the company’s mission of connecting science with nature and people. The pond is not just a body of water; it’s a testament to the value of holistic thinking in environmental science—an interconnected space where ecological health, urban planning, and recreational potential come together. By embracing the challenges and opportunities of this connection, Deltares has created a vibrant ecosystem that is as much a source of knowledge as it is a natural sanctuary.\r\n",
      "\r\n",
      "And though it may never become a swimming hole, its true legacy lies in the lessons it imparts: that through careful stewardship and a willingness to adapt, even a small pond can be a profound force for understanding and protecting the world’s water systems.\r\n",
      "\n",
      "deltares-pond-history.txt(0.58): Deltares Pond: A Brief History\r\n",
      "\r\n",
      "The dialogue with nature can take many forms, each offering a unique way to engage with the natural world.\r\n",
      "\r\n",
      "Understanding the pond as a natural system\r\n",
      "\r\n",
      "The Deltares pond, much like any natural system, is inherently interconnected with its surrounding environment.\r\n",
      "Small ponds, like other water bodies, do not function in isolation as other water bodies. It is part of larger\r\n",
      "hydrological networks influenced by neighbouring water systems, such as groundwater, streams, and distant rivers.\r\n",
      "\r\n",
      "The Birth of the Deltares Pond\r\n",
      "In a practical context, such as Deltares’ research, understanding these connections is critical for managing water\r\n",
      "quality, predicting the effects of changes (e.g., climate change, land use), and ensuring the health of aquatic systems.\r\n",
      "The pond can serve as a microcosm for studying broader watershed dynamics, such as how pollutants move through\r\n",
      "connected systems or how changes in one area can impact the entire hydrological network.\r\n",
      "\r\n",
      "This web of connections highlights the importance of integrated water resource management (IWRM), ensuring that\r\n",
      "interventions consider the entire system, not just individual elements\r\n",
      "\n"
     ]
    }
   ],
   "execution_count": 16
  }
 ],
 "metadata": {},
 "nbformat": 4,
 "nbformat_minor": 5
}
