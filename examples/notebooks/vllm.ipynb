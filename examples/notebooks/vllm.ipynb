{
 "cells": [
  {
   "cell_type": "code",
   "execution_count": 8,
   "id": "2ac98fc5bff24a99",
   "metadata": {
    "ExecuteTime": {
     "end_time": "2025-05-18T18:20:05.701278Z",
     "start_time": "2025-05-18T18:20:04.094689Z"
    }
   },
   "outputs": [],
   "source": [
    "from dotenv import load_dotenv\n",
    "from vfn_rag.vision.vision_model import VisionModel"
   ]
  },
  {
   "cell_type": "code",
   "execution_count": 15,
   "id": "41039957b2b1c2d",
   "metadata": {
    "ExecuteTime": {
     "end_time": "2025-05-18T18:20:06.430032Z",
     "start_time": "2025-05-18T18:20:06.418063Z"
    }
   },
   "outputs": [
    {
     "data": {
      "text/plain": [
       "'C:\\\\Users\\\\boerlijs\\\\vfn-rag'"
      ]
     },
     "execution_count": 15,
     "metadata": {},
     "output_type": "execute_result"
    }
   ],
   "source": [
    "import os\n",
    "os.getcwd()\n",
    "r_dir = \"C:\\\\Users\\\\boerlijs\\\\vfn-rag\"\n",
    "os.chdir(r_dir)\n",
    "os.getcwd()"
   ]
  },
  {
   "cell_type": "code",
   "execution_count": 16,
   "id": "75fc88aced541439",
   "metadata": {
    "ExecuteTime": {
     "end_time": "2025-05-18T18:20:08.470537Z",
     "start_time": "2025-05-18T18:20:08.459468Z"
    }
   },
   "outputs": [
    {
     "data": {
      "text/plain": [
       "True"
      ]
     },
     "execution_count": 16,
     "metadata": {},
     "output_type": "execute_result"
    }
   ],
   "source": [
    "load_dotenv()"
   ]
  },
  {
   "cell_type": "code",
   "execution_count": 166,
   "id": "fbea5774750687a2",
   "metadata": {
    "ExecuteTime": {
     "end_time": "2025-05-18T18:20:11.862646Z",
     "start_time": "2025-05-18T18:20:11.857194Z"
    }
   },
   "outputs": [],
   "source": [
    "image_list = [\"examples/KRW/causality-figure.png\"]#, \"examples/KRW/dependency-graph.png\"]\n",
    "adjacency_matrix = \"\"\"BZV  Stikstof totaal  Fosfor totaal  Ammonium  Toxiciteit  Meandering  Beschaduwing  Verstuwing  Macrofauna\n",
    "BZV                0                0              2         0           0           0             0           0           0\n",
    "Stikstof totaal    0                0              2        -1           0           0             0           0           0\n",
    "Fosfor totaal      2                2              0         0           0           0             0           0           0\n",
    "Ammonium           0                1              0         0           1           0             0           0          -1\n",
    "Toxiciteit         0                0              0         2           0           0             0           0           0\n",
    "Meandering         0                0              0         0           0           0             2           2          -1\n",
    "Beschaduwing       0                0              0         0           0           2             0           0          -1\n",
    "Verstuwing         0                0              0         0           0           2             0           0          -1\n",
    "Macrofauna         0                0              0         1           0           1             1           1           0\"\"\"\n",
    "\n",
    "adjacency_matrix_lingam = \"\"\"\n",
    "                BZV  Stikstof totaal  Fosfor totaal  Ammonium  Toxiciteit  Meandering  Beschaduwing  Verstuwing  Macrofauna\n",
    "BZV              0.0         0.000000       0.401487  0.000000         0.0   -0.208719           0.0         0.0    0.000000\n",
    "Stikstof totaal  0.0         0.000000       0.365336  0.216641         0.0    0.000000           0.0         0.0    1.565988\n",
    "Fosfor totaal    0.0         0.000000       0.000000  0.087269         0.0    0.000000           0.0         0.0   -0.950676\n",
    "Ammonium         0.0         0.000000       0.000000  0.000000         0.0    0.000000           0.0         0.0   -1.361032\n",
    "Toxiciteit       0.0         0.000000       0.000000  0.166284         0.0    0.000000           0.0         0.0    0.000000\n",
    "Meandering       0.0         0.000000       0.000000  0.000000         0.0    0.000000           0.0         0.0    3.110668\n",
    "Beschaduwing     0.0         0.000000       0.000000  0.000000         0.0    0.257760           0.0         0.0    1.563462\n",
    "Verstuwing       0.0         0.097504       0.000000  0.000000         0.0    0.480121           0.0         0.0    1.424058\n",
    "Macrofauna       0.0         0.000000       0.000000  0.000000         0.0    0.000000           0.0         0.0    0.000000\n",
    "\"\"\"\n",
    "\n",
    "prompt = f\"\"\"1) Based on the Fast Causal Inference plot and {adjacency_matrix} return a list of only the pairs of variables that are connected by a line that ends with > (-1 in the adjacency_matrix). Call this 'list 1'.\n",
    "2) Describe the direction of the strong relationships in the {adjacency_matrix_lingam} DirectLiNGAM in the image. Call this 'list 2'.\n",
    "3) Compare 'list 1' and 'list 2' and describe which are not present in both\"\"\"\n",
    " \n",
    "#prompt = \"\"\"\n",
    "#I have an image of a pond and its surrounding area. Please analyze and describe the ecosystem of the pond in detail.\n",
    "#Focus on identifying visible plant species, types of wildlife, and any signs of ecosystem health, such as water\n",
    "#clarity, presence of algae, and biodiversity indicators. Assess the water quality based on visible factors like\n",
    "#clarity, presence of pollutants, or excessive algae, and discuss whether the pond’s conditions would be suitable\n",
    "#for ducks, geese, fish, and other waterfowl. \n",
    "#Estimate the pond’s depth based on visual cues (such as the slope of the banks or reflections) and any signs of \n",
    "#deeper or shallower areas. Additionally, describe the surrounding ecosystem, including visible vegetation types, \n",
    "#habitat conditions, and potential impacts from human activities, if present. Offer insights into the overall health \n",
    "#of both the pond and its surrounding ecosystem, and suggest what further\n",
    "#observations could enhance the understanding of the pond's suitability as a habitat for various species and its\n",
    "#ecological health.\n",
    "#\"\"\""
   ]
  },
  {
   "cell_type": "code",
   "execution_count": 167,
   "id": "961c274257196d80",
   "metadata": {
    "ExecuteTime": {
     "end_time": "2025-05-18T18:20:16.196892Z",
     "start_time": "2025-05-18T18:20:15.735422Z"
    }
   },
   "outputs": [],
   "source": [
    "vision_model = VisionModel(image_files=image_list, prompt_template=prompt)\n",
    "# print(vision_model.api_key)\n",
    "# print(vision_model.api_base_url)\n",
    "# print(vision_model.api_version)"
   ]
  },
  {
   "cell_type": "code",
   "execution_count": 168,
   "id": "f37aefba9da51bef",
   "metadata": {
    "ExecuteTime": {
     "end_time": "2025-05-18T18:20:28.684475Z",
     "start_time": "2025-05-18T18:20:17.831848Z"
    }
   },
   "outputs": [
    {
     "name": "stdout",
     "output_type": "stream",
     "text": [
      "1) List 1 (pairs of variables connected by a line that ends with > (-1 in the adjacency_matrix)):\n",
      "- Stikstof totaal -> Ammonium\n",
      "- Ammonium -> Macrofauna\n",
      "- Meandering -> Macrofauna\n",
      "- Beschaduwing -> Macrofauna\n",
      "- Verstuwing -> Macrofauna\n",
      "\n",
      "2) List 2 (direction of strong relationships in DirectLiNGAM):\n",
      "- Stikstof totaal -> Macrofauna (positive influence)\n",
      "- Fosfor totaal -> Macrofauna (negative influence)\n",
      "- Ammonium -> Macrofauna (negative influence)\n",
      "- Meandering -> Macrofauna (positive influence)\n",
      "- Beschaduwing -> Macrofauna (positive influence)\n",
      "- Verstuwing -> Macrofauna (positive influence)\n",
      "\n",
      "3) Comparison of List 1 and List 2:\n",
      "- Present in both lists:\n",
      "  - Ammonium -> Macrofauna\n",
      "  - Meandering -> Macrofauna\n",
      "  - Beschaduwing -> Macrofauna\n",
      "  - Verstuwing -> Macrofauna\n",
      "\n",
      "- Not present in both lists:\n",
      "  - Stikstof totaal -> Ammonium (present in List 1 but not in List 2)\n",
      "  - Stikstof totaal -> Macrofauna (present in List 2 but not in List 1)\n",
      "  - Fosfor totaal -> Macrofauna (present in List 2 but not in List 1)\n"
     ]
    }
   ],
   "source": [
    "visual_description = vision_model.trigger_model(max_tokens=1000, temperature=0.1, detail=\"high\")\n",
    "print(visual_description)\n"
   ]
  },
  {
   "cell_type": "code",
   "execution_count": null,
   "id": "add7b070e853d20d",
   "metadata": {},
   "outputs": [],
   "source": [
    "# visual_description = \"\"\"\n",
    "# The image depicts a pond surrounded by various types of vegetation and rocks. Here is a detailed analysis of the pond ecosystem based on the visible elements:\\n\\n### Plant Species\\n- **Aquatic Plants**: The pond features water lilies (Nymphaeaceae) with broad, floating leaves and white flowers. These plants are beneficial for providing shade and habitat for aquatic life.\\n- **Emergent Vegetation**: There are tall grasses and reeds along the pond's edge, which are typical of wetland environments. These plants help stabilize the pond's banks and provide habitat for wildlife.\\n- **Terrestrial Plants**: Surrounding the pond are various shrubs and possibly some low-lying ground cover plants. These contribute to the overall biodiversity and help prevent soil erosion.\\n\\n### Wildlife\\n- **Visible Wildlife**: There are no visible animals in the image, but the presence of water lilies and emergent vegetation suggests that the pond could support various species of insects, amphibians, and possibly small fish.\\n- **Potential for Waterfowl**: The pond appears suitable for ducks, geese, and other waterfowl due to the presence of aquatic plants and clear water, which provide food and habitat.\\n\\n### Water Quality\\n- **Clarity**: The water appears clear, indicating good water quality. Clear water is a sign of low pollution levels and a healthy ecosystem.\\n- **Algae**: There is no visible excessive algae growth, which suggests that the nutrient levels in the pond are balanced and not overly high.\\n- **Pollutants**: There are no visible signs of pollutants such as trash or oil, indicating a relatively clean environment.\\n\\n### Depth Estimation\\n- **Visual Cues**: The pond's depth is difficult to estimate precisely from the image, but the presence of water lilies suggests that at least some parts of the pond are shallow, as these plants typically grow in water up to about 2-3 feet deep.\\n- **Bank Slope**: The gentle slope of the banks and the presence of emergent vegetation suggest that the pond may have both shallow and slightly deeper areas.\\n\\n### Surrounding Ecosystem\\n- **Vegetation Types**: The surrounding vegetation includes a mix of grasses, shrubs, and possibly some small trees. This diverse plant life supports a healthy ecosystem by providing habitat and food for various species.\\n- **Habitat Conditions**: The habitat appears natural and well-maintained, with no visible signs of human disturbance such as construction or pollution.\\n- **Human Impact**: There are no visible signs of significant human impact, which is positive for the overall health of the ecosystem.\\n\\n### Overall Health and Recommendations\\n- **Ecosystem Health**: The pond and its surrounding area appear to be in good health, with clear water, diverse plant life, and no visible pollutants. This suggests a balanced and thriving ecosystem.\\n- **Further Observations**: To enhance understanding of the pond's suitability as a habitat and its ecological health, further observations could include:\\n  - Monitoring water quality parameters such as pH, dissolved oxygen, and nutrient levels.\\n  - Conducting a survey of the wildlife present, including aquatic insects, amphibians, and birds.\\n  - Assessing the presence of any invasive species that could impact the native ecosystem.\\n\\nOverall, the pond appears to be a healthy and suitable habitat for various species, including waterfowl, and contributes positively to the surrounding ecosystem.\"\n",
    "# \"\"\"\n"
   ]
  }
 ],
 "metadata": {
  "kernelspec": {
   "display_name": "vfn-rag-V7fvIzxb-py3.13",
   "language": "python",
   "name": "python3"
  },
  "language_info": {
   "codemirror_mode": {
    "name": "ipython",
    "version": 3
   },
   "file_extension": ".py",
   "mimetype": "text/x-python",
   "name": "python",
   "nbconvert_exporter": "python",
   "pygments_lexer": "ipython3",
   "version": "3.12.10"
  }
 },
 "nbformat": 4,
 "nbformat_minor": 5
}
