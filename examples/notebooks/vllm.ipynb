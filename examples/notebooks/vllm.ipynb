{
 "cells": [
  {
   "metadata": {
    "ExecuteTime": {
     "end_time": "2025-05-18T18:20:05.701278Z",
     "start_time": "2025-05-18T18:20:04.094689Z"
    }
   },
   "cell_type": "code",
   "source": [
    "from dotenv import load_dotenv\n",
    "from vfn_rag.vision.vision_model import VisionModel"
   ],
   "id": "2ac98fc5bff24a99",
   "outputs": [],
   "execution_count": 2
  },
  {
   "metadata": {
    "ExecuteTime": {
     "end_time": "2025-05-18T18:20:06.430032Z",
     "start_time": "2025-05-18T18:20:06.418063Z"
    }
   },
   "cell_type": "code",
   "source": [
    "import os\n",
    "os.getcwd()\n",
    "r_dir = \"../../\"\n",
    "os.chdir(r_dir)\n",
    "os.getcwd()"
   ],
   "id": "41039957b2b1c2d",
   "outputs": [
    {
     "data": {
      "text/plain": [
       "'C:\\\\gdrive\\\\algorithms\\\\AI\\\\llms\\\\vfn-rag'"
      ]
     },
     "execution_count": 3,
     "metadata": {},
     "output_type": "execute_result"
    }
   ],
   "execution_count": 3
  },
  {
   "metadata": {
    "ExecuteTime": {
     "end_time": "2025-05-18T18:20:08.470537Z",
     "start_time": "2025-05-18T18:20:08.459468Z"
    }
   },
   "cell_type": "code",
   "source": "load_dotenv()",
   "id": "75fc88aced541439",
   "outputs": [
    {
     "data": {
      "text/plain": [
       "True"
      ]
     },
     "execution_count": 4,
     "metadata": {},
     "output_type": "execute_result"
    }
   ],
   "execution_count": 4
  },
  {
   "metadata": {
    "ExecuteTime": {
     "end_time": "2025-05-18T18:20:11.862646Z",
     "start_time": "2025-05-18T18:20:11.857194Z"
    }
   },
   "cell_type": "code",
   "source": [
    "image_list = [\"examples/data/alge.jpg\"]\n",
    "prompt = \"\"\"\n",
    "I have an image of a pond and its surrounding area. Please analyze and describe the ecosystem of the pond in detail.\n",
    "Focus on identifying visible plant species, types of wildlife, and any signs of ecosystem health, such as water\n",
    "clarity, presence of algae, and biodiversity indicators. Assess the water quality based on visible factors like\n",
    "clarity, presence of pollutants, or excessive algae, and discuss whether the pond’s conditions would be suitable\n",
    "for ducks, geese, fish, and other waterfowl. \n",
    "Estimate the pond’s depth based on visual cues (such as the slope of the banks or reflections) and any signs of \n",
    "deeper or shallower areas. Additionally, describe the surrounding ecosystem, including visible vegetation types, \n",
    "habitat conditions, and potential impacts from human activities, if present. Offer insights into the overall health \n",
    "of both the pond and its surrounding ecosystem, and suggest what further\n",
    "observations could enhance the understanding of the pond's suitability as a habitat for various species and its\n",
    "ecological health.\n",
    "\"\"\""
   ],
   "id": "fbea5774750687a2",
   "outputs": [],
   "execution_count": 5
  },
  {
   "metadata": {
    "ExecuteTime": {
     "end_time": "2025-05-18T18:20:16.196892Z",
     "start_time": "2025-05-18T18:20:15.735422Z"
    }
   },
   "cell_type": "code",
   "source": [
    "vision_model = VisionModel(image_files=image_list, prompt_template=prompt)\n",
    "# print(vision_model.api_key)\n",
    "# print(vision_model.api_base_url)\n",
    "# print(vision_model.api_version)"
   ],
   "id": "961c274257196d80",
   "outputs": [],
   "execution_count": 6
  },
  {
   "metadata": {
    "ExecuteTime": {
     "end_time": "2025-05-18T18:20:28.684475Z",
     "start_time": "2025-05-18T18:20:17.831848Z"
    }
   },
   "cell_type": "code",
   "source": [
    "visual_description = vision_model.trigger_model(max_tokens=1000, temperature=0.1, detail=\"high\")\n",
    "print(visual_description)\n"
   ],
   "id": "f37aefba9da51bef",
   "outputs": [
    {
     "name": "stdout",
     "output_type": "stream",
     "text": [
      "Based on the provided image of the pond and its surrounding area, here is a detailed analysis of the ecosystem:\n",
      "\n",
      "### Plant Species\n",
      "- **Aquatic Plants**: The pond surface appears to be covered with a significant amount of algae or possibly duckweed, which is indicative of nutrient-rich waters.\n",
      "- **Surrounding Vegetation**: The banks of the pond are lined with dense vegetation, including shrubs and possibly some trees. The greenery suggests a well-established riparian zone, which is beneficial for preventing erosion and providing habitat for various species.\n",
      "\n",
      "### Types of Wildlife\n",
      "- **Visible Wildlife**: There are no visible animals in the image. However, the presence of dense vegetation and algae suggests that the pond could support various forms of wildlife, including insects, amphibians, and possibly small fish.\n",
      "- **Potential Wildlife**: Given the conditions, the pond could potentially support ducks, geese, and other waterfowl, although the dense algae might limit their movement and feeding. Fish species that can tolerate lower oxygen levels might also inhabit the pond.\n",
      "\n",
      "### Ecosystem Health Indicators\n",
      "- **Water Clarity**: The water appears to be quite green, indicating a high concentration of algae. This suggests eutrophication, which is often caused by an excess of nutrients (such as nitrogen and phosphorus) in the water.\n",
      "- **Presence of Algae**: The significant algae presence is a sign of nutrient pollution, which can lead to oxygen depletion and negatively impact aquatic life.\n",
      "- **Biodiversity Indicators**: The dense vegetation around the pond is a positive sign, as it provides habitat and food for various species. However, the high algae concentration might reduce biodiversity within the water itself.\n",
      "\n",
      "### Water Quality Assessment\n",
      "- **Clarity**: The water is not clear, which is a negative indicator of water quality. The green color suggests a high level of algae, which can be harmful to aquatic life.\n",
      "- **Pollutants**: There are no visible signs of pollutants such as trash or oil. However, the algae bloom suggests nutrient pollution, possibly from agricultural runoff or other sources of nitrogen and phosphorus.\n",
      "- **Suitability for Waterfowl and Fish**: The pond might support some waterfowl, but the dense algae could hinder their movement and feeding. Fish that can tolerate low oxygen levels might survive, but overall, the conditions are not ideal for a diverse aquatic ecosystem.\n",
      "\n",
      "### Pond Depth Estimation\n",
      "- **Visual Cues**: The image does not provide clear visual cues about the depth of the pond. The slope of the banks and the reflections on the water surface are not easily discernible.\n",
      "- **Deeper or Shallower Areas**: Without more information, it is difficult to estimate the depth accurately. The presence of dense algae suggests that the pond might be relatively shallow, as sunlight can penetrate and promote algae growth.\n",
      "\n",
      "### Surrounding Ecosystem\n",
      "- **Vegetation Types**: The surrounding area is lush with shrubs and possibly some trees, indicating a healthy riparian zone.\n",
      "- **Habitat Conditions**: The dense vegetation provides good habitat conditions for terrestrial wildlife and helps stabilize the banks.\n",
      "- **Human Impact**: There are no visible signs of human activity such as litter, construction, or pathways. However, the nutrient pollution indicated by the algae bloom suggests possible upstream agricultural or urban runoff.\n",
      "\n",
      "### Overall Health and Recommendations\n",
      "- **Pond Health**: The pond shows signs of eutrophication, which can lead to oxygen depletion and harm aquatic life. The dense algae presence is a concern for water quality and biodiversity.\n",
      "- **Surrounding Ecosystem Health**: The surrounding vegetation appears healthy and provides good habitat conditions.\n",
      "- **Further Observations**: To enhance understanding of the pond's suitability as a habitat and its ecological health, the following observations are recommended:\n",
      "  - **Water Testing**: Conduct water quality tests to measure nutrient levels, pH, dissolved oxygen, and other parameters.\n",
      "  - **Biodiversity Survey**: Perform a survey of aquatic and terrestrial species to assess biodiversity.\n",
      "  - **Depth Measurement**: Measure the pond's depth at various points to understand its bathymetry.\n",
      "  - **Source Identification**: Investigate potential sources of nutrient pollution to address the root cause of eutrophication.\n",
      "\n",
      "By addressing these factors, a more comprehensive understanding of the pond's ecological health and its suitability as a habitat for various species can be achieved.\n"
     ]
    }
   ],
   "execution_count": 7
  },
  {
   "metadata": {},
   "cell_type": "code",
   "outputs": [],
   "execution_count": null,
   "source": [
    "# visual_description = \"\"\"\n",
    "# The image depicts a pond surrounded by various types of vegetation and rocks. Here is a detailed analysis of the pond ecosystem based on the visible elements:\\n\\n### Plant Species\\n- **Aquatic Plants**: The pond features water lilies (Nymphaeaceae) with broad, floating leaves and white flowers. These plants are beneficial for providing shade and habitat for aquatic life.\\n- **Emergent Vegetation**: There are tall grasses and reeds along the pond's edge, which are typical of wetland environments. These plants help stabilize the pond's banks and provide habitat for wildlife.\\n- **Terrestrial Plants**: Surrounding the pond are various shrubs and possibly some low-lying ground cover plants. These contribute to the overall biodiversity and help prevent soil erosion.\\n\\n### Wildlife\\n- **Visible Wildlife**: There are no visible animals in the image, but the presence of water lilies and emergent vegetation suggests that the pond could support various species of insects, amphibians, and possibly small fish.\\n- **Potential for Waterfowl**: The pond appears suitable for ducks, geese, and other waterfowl due to the presence of aquatic plants and clear water, which provide food and habitat.\\n\\n### Water Quality\\n- **Clarity**: The water appears clear, indicating good water quality. Clear water is a sign of low pollution levels and a healthy ecosystem.\\n- **Algae**: There is no visible excessive algae growth, which suggests that the nutrient levels in the pond are balanced and not overly high.\\n- **Pollutants**: There are no visible signs of pollutants such as trash or oil, indicating a relatively clean environment.\\n\\n### Depth Estimation\\n- **Visual Cues**: The pond's depth is difficult to estimate precisely from the image, but the presence of water lilies suggests that at least some parts of the pond are shallow, as these plants typically grow in water up to about 2-3 feet deep.\\n- **Bank Slope**: The gentle slope of the banks and the presence of emergent vegetation suggest that the pond may have both shallow and slightly deeper areas.\\n\\n### Surrounding Ecosystem\\n- **Vegetation Types**: The surrounding vegetation includes a mix of grasses, shrubs, and possibly some small trees. This diverse plant life supports a healthy ecosystem by providing habitat and food for various species.\\n- **Habitat Conditions**: The habitat appears natural and well-maintained, with no visible signs of human disturbance such as construction or pollution.\\n- **Human Impact**: There are no visible signs of significant human impact, which is positive for the overall health of the ecosystem.\\n\\n### Overall Health and Recommendations\\n- **Ecosystem Health**: The pond and its surrounding area appear to be in good health, with clear water, diverse plant life, and no visible pollutants. This suggests a balanced and thriving ecosystem.\\n- **Further Observations**: To enhance understanding of the pond's suitability as a habitat and its ecological health, further observations could include:\\n  - Monitoring water quality parameters such as pH, dissolved oxygen, and nutrient levels.\\n  - Conducting a survey of the wildlife present, including aquatic insects, amphibians, and birds.\\n  - Assessing the presence of any invasive species that could impact the native ecosystem.\\n\\nOverall, the pond appears to be a healthy and suitable habitat for various species, including waterfowl, and contributes positively to the surrounding ecosystem.\"\n",
    "# \"\"\"\n"
   ],
   "id": "add7b070e853d20d"
  }
 ],
 "metadata": {},
 "nbformat": 4,
 "nbformat_minor": 5
}
